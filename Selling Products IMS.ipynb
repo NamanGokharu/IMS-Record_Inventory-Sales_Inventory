{
 "cells": [
  {
   "cell_type": "markdown",
   "id": "9b570b0e",
   "metadata": {},
   "source": [
    "# Reading Record"
   ]
  },
  {
   "cell_type": "code",
   "execution_count": 21,
   "id": "db45bb9a",
   "metadata": {},
   "outputs": [],
   "source": [
    "fd=open('record.json','r')\n",
    "txt=fd.read()\n",
    "fd.close()"
   ]
  },
  {
   "cell_type": "markdown",
   "id": "b5441d18",
   "metadata": {},
   "source": [
    "# Loading JSON file"
   ]
  },
  {
   "cell_type": "code",
   "execution_count": 22,
   "id": "70e4514b",
   "metadata": {},
   "outputs": [
    {
     "data": {
      "text/plain": [
       "{'1111': {'prod_name': 'Bluetooth Headphone J11',\n",
       "  'In Stock': 98,\n",
       "  'Price': 999,\n",
       "  'type': 'Electronics',\n",
       "  'prod_Brand': 'MI'},\n",
       " '1112': {'prod_name': 'Bluetooth Earphone M10',\n",
       "  'In Stock': 99,\n",
       "  'Price': 1999,\n",
       "  'type': 'Electronics',\n",
       "  'prod_Brand': 'Samsung'},\n",
       " '1113': {'prod_name': 'Bluetooth Watch Smart5',\n",
       "  'In Stock': 100,\n",
       "  'Price': 4999,\n",
       "  'type': 'Electronics',\n",
       "  'prod_Brand': 'Samsung'},\n",
       " '1114': {'prod_name': 'Bluetooth Speaker S-series',\n",
       "  'In Stock': 20,\n",
       "  'Price': 2999,\n",
       "  'type': 'Electronics',\n",
       "  'prod_Brand': 'MI'},\n",
       " '1115': {'prod_name': 'Bluetooth TV',\n",
       "  'In Stock': 10,\n",
       "  'Price': 19999,\n",
       "  'type': 'Electronics',\n",
       "  'prod_Brand': 'MI'},\n",
       " '1116': {'prod_name': 'Galaxy5G',\n",
       "  'In Stock': 5,\n",
       "  'Price': 49999,\n",
       "  'type': 'Electronics',\n",
       "  'prod_Brand': 'Samsung'},\n",
       " '1117': {'prod_name': 'Bluetooth Headphone',\n",
       "  'In Stock': 15,\n",
       "  'Price': 1499,\n",
       "  'type': 'Electronics',\n",
       "  'prod_Brand': 'Samsung'},\n",
       " '1118': {'prod_name': 'ROG E6 Laptop',\n",
       "  'In Stock': 50,\n",
       "  'Price': 129999,\n",
       "  'type': 'Electronics',\n",
       "  'prod_Brand': 'Asus'},\n",
       " '1119': {'prod_name': 'Oppo F6 cover case',\n",
       "  'In Stock': 10,\n",
       "  'Price': 699,\n",
       "  'type': 'Electronics',\n",
       "  'prod_Brand': 'OPPO'},\n",
       " '1120': {'prod_name': 'Vivo Signature Kit',\n",
       "  'In Stock': 50,\n",
       "  'Price': 1999,\n",
       "  'type': 'Apparel',\n",
       "  'prod_Brand': 'VIVO'},\n",
       " '1121': {'prod_name': 'S4 Plus',\n",
       "  'In Stock': 10,\n",
       "  'Price': 9999,\n",
       "  'type': 'Electronics',\n",
       "  'prod_Brand': 'Infinix'},\n",
       " '1122': {'prod_name': 'Ear Thunders',\n",
       "  'In Stock': 48,\n",
       "  'Price': 1199,\n",
       "  'type': 'Electronics',\n",
       "  'prod_Brand': 'Boult'},\n",
       " '1123': {'prod_name': 'Port C4 charger',\n",
       "  'In Stock': 50,\n",
       "  'Price': 299,\n",
       "  'type': 'Electronics',\n",
       "  'prod_Brand': 'Asus'},\n",
       " '1124': {'prod_name': 'Firestick',\n",
       "  'In Stock': 50,\n",
       "  'Price': 14999,\n",
       "  'type': 'Electronics',\n",
       "  'prod_Brand': 'MI'},\n",
       " '1125': {'prod_name': 'Gaming Keyboard S4',\n",
       "  'In Stock': 50,\n",
       "  'Price': 1899,\n",
       "  'type': 'Electronics',\n",
       "  'prod_Brand': 'Asus'},\n",
       " '1126': {'prod_name': 'Power bank 5000MAH',\n",
       "  'In Stock': 20,\n",
       "  'Price': 599,\n",
       "  'type': 'Electronics',\n",
       "  'prod_Brand': 'MI'},\n",
       " '1127': {'prod_name': 'Drone E1.1.4',\n",
       "  'In Stock': 4,\n",
       "  'Price': 5999,\n",
       "  'type': 'Electronics',\n",
       "  'prod_Brand': 'Sky Toucher'},\n",
       " '1128': {'prod_name': 'Home Theater',\n",
       "  'In Stock': 50,\n",
       "  'Price': 2999,\n",
       "  'type': 'Electronics',\n",
       "  'prod_Brand': 'MI'},\n",
       " '1129': {'prod_name': 'DSLR',\n",
       "  'In Stock': 50,\n",
       "  'Price': 21999,\n",
       "  'type': 'Electronics',\n",
       "  'prod_Brand': 'Nikon'},\n",
       " '1130': {'prod_name': 'PenDrive 32GB',\n",
       "  'In Stock': 50,\n",
       "  'Price': 999,\n",
       "  'type': 'Electronics',\n",
       "  'prod_Brand': 'Sandisk'},\n",
       " '1131': {'prod_name': 'Trimmer',\n",
       "  'In Stock': 50,\n",
       "  'Price': 799,\n",
       "  'type': 'Electronics',\n",
       "  'prod_Brand': 'Nova'},\n",
       " '1132': {'prod_name': 'Amplifier',\n",
       "  'In Stock': 50,\n",
       "  'Price': 16999,\n",
       "  'type': 'Electronics',\n",
       "  'prod_Brand': 'HiTech'},\n",
       " '1133': {'prod_name': 'Nvidia Sound Card',\n",
       "  'In Stock': 50,\n",
       "  'Price': 3299,\n",
       "  'type': 'Electronics',\n",
       "  'prod_Brand': 'GForce'},\n",
       " '1134': {'prod_name': 'Smart Lightning',\n",
       "  'In Stock': 50,\n",
       "  'Price': 199,\n",
       "  'type': 'Electronics',\n",
       "  'prod_Brand': 'Diwali Lightners'},\n",
       " '1135': {'prod_name': 'AC 5th gen',\n",
       "  'In Stock': 50,\n",
       "  'Price': 28999,\n",
       "  'type': 'Electronics',\n",
       "  'prod_Brand': 'Lloyd'},\n",
       " '1136': {'prod_name': 'Washing Machine',\n",
       "  'In Stock': 50,\n",
       "  'Price': 7999,\n",
       "  'type': 'Electronics',\n",
       "  'prod_Brand': 'Lg'},\n",
       " '1137': {'prod_name': 'Ipod',\n",
       "  'In Stock': 50,\n",
       "  'Price': 9999,\n",
       "  'type': 'Electronics',\n",
       "  'prod_Brand': 'Apple'},\n",
       " '1138': {'prod_name': 'Tablet',\n",
       "  'In Stock': 50,\n",
       "  'Price': 11999,\n",
       "  'type': 'Electronics',\n",
       "  'prod_Brand': 'Dell'},\n",
       " '1139': {'prod_name': 'Hair Dryer',\n",
       "  'In Stock': 50,\n",
       "  'Price': 799,\n",
       "  'type': 'Electronics',\n",
       "  'prod_Brand': 'Misfit'},\n",
       " '1140': {'prod_name': 'Iron',\n",
       "  'In Stock': 50,\n",
       "  'Price': 699,\n",
       "  'type': 'Electronics',\n",
       "  'prod_Brand': 'Bajaj'},\n",
       " '1141': {'prod_name': 'Harmonium',\n",
       "  'In Stock': 50,\n",
       "  'Price': 9999,\n",
       "  'type': 'Instrumental',\n",
       "  'prod_Brand': 'Casio'}}"
      ]
     },
     "execution_count": 22,
     "metadata": {},
     "output_type": "execute_result"
    }
   ],
   "source": [
    "import json\n",
    "record=json.loads(txt)\n",
    "record"
   ]
  },
  {
   "cell_type": "markdown",
   "id": "1d9744e5",
   "metadata": {},
   "source": [
    "# Knowing User Purchase Demand"
   ]
  },
  {
   "cell_type": "code",
   "execution_count": 23,
   "id": "dc8aacab",
   "metadata": {},
   "outputs": [
    {
     "name": "stdout",
     "output_type": "stream",
     "text": [
      "Enter/Scan product's id to purchase : 1111\n",
      "Enter the quantity : 1\n"
     ]
    }
   ],
   "source": [
    "product_id=input(\"Enter/Scan product's id to purchase : \")\n",
    "product_qn=int(input(\"Enter the quantity : \"))"
   ]
  },
  {
   "cell_type": "markdown",
   "id": "f7b876ae",
   "metadata": {},
   "source": [
    "# Checking Stock Availability"
   ]
  },
  {
   "cell_type": "code",
   "execution_count": 24,
   "id": "2205a09b",
   "metadata": {},
   "outputs": [
    {
     "name": "stdout",
     "output_type": "stream",
     "text": [
      "Enter customer name : Rahul Vaidya\n",
      "Enter Customer Phone Number : 7014******\n",
      "Hurrah! Quantity demand is in stock, we are generating your Bill\n"
     ]
    }
   ],
   "source": [
    "bill_to_generate=False\n",
    "product_name=record[product_id]['prod_name']\n",
    "product_type=record[product_id]['type']\n",
    "cust_name=\"\"\n",
    "cust_number=0\n",
    "if(product_qn <= record[product_id]['In Stock']):\n",
    "    bill_to_generate=True\n",
    "    cust_name=input(\"Enter customer name : \")\n",
    "    cust_number=input(\"Enter Customer Phone Number : \")\n",
    "    print(\"Hurrah! Quantity demand is in stock, we are generating your Bill\")\n",
    "else:\n",
    "    product_qn=0\n",
    "    print(\"Sorry for your inconvenience! Stock available is less than the quantity demanded...\")"
   ]
  },
  {
   "cell_type": "markdown",
   "id": "1c2a4b26",
   "metadata": {},
   "source": [
    "# Generating the Bill"
   ]
  },
  {
   "cell_type": "code",
   "execution_count": 25,
   "id": "6ca8b89b",
   "metadata": {},
   "outputs": [
    {
     "name": "stdout",
     "output_type": "stream",
     "text": [
      "************Total Bill************\n",
      "\n",
      "Product Name : Bluetooth Headphone J11\n",
      "Product Brand : MI\n",
      "Product Type : Electronics\n",
      "Quantity Purchased :  1\n",
      "Product Price/Unit : 999\n",
      "\n",
      "**********************************\n",
      "Total Amount :  999\n"
     ]
    }
   ],
   "source": [
    "tot_Amount=0\n",
    "if(bill_to_generate):\n",
    "    print(\"************Total Bill************\")\n",
    "    print()\n",
    "    print(\"Product Name : \"+record[product_id]['prod_name'])\n",
    "    print(\"Product Brand : \"+record[product_id]['prod_Brand'])\n",
    "    print(\"Product Type : \"+record[product_id]['type'])\n",
    "    print(\"Quantity Purchased : \",str(product_qn))\n",
    "    print(\"Product Price/Unit : \"+str(record[product_id]['Price']))\n",
    "    print()\n",
    "    print(\"**********************************\")\n",
    "    print(\"Total Amount : \",record[product_id]['Price']*product_qn)\n",
    "    tot_Amount=record[product_id]['Price']*product_qn"
   ]
  },
  {
   "cell_type": "markdown",
   "id": "68489279",
   "metadata": {},
   "source": [
    "# Manipulating Record after Products Sold"
   ]
  },
  {
   "cell_type": "code",
   "execution_count": 26,
   "id": "11d4b096",
   "metadata": {},
   "outputs": [
    {
     "data": {
      "text/plain": [
       "{'1111': {'prod_name': 'Bluetooth Headphone J11',\n",
       "  'In Stock': 97,\n",
       "  'Price': 999,\n",
       "  'type': 'Electronics',\n",
       "  'prod_Brand': 'MI'},\n",
       " '1112': {'prod_name': 'Bluetooth Earphone M10',\n",
       "  'In Stock': 99,\n",
       "  'Price': 1999,\n",
       "  'type': 'Electronics',\n",
       "  'prod_Brand': 'Samsung'},\n",
       " '1113': {'prod_name': 'Bluetooth Watch Smart5',\n",
       "  'In Stock': 100,\n",
       "  'Price': 4999,\n",
       "  'type': 'Electronics',\n",
       "  'prod_Brand': 'Samsung'},\n",
       " '1114': {'prod_name': 'Bluetooth Speaker S-series',\n",
       "  'In Stock': 20,\n",
       "  'Price': 2999,\n",
       "  'type': 'Electronics',\n",
       "  'prod_Brand': 'MI'},\n",
       " '1115': {'prod_name': 'Bluetooth TV',\n",
       "  'In Stock': 10,\n",
       "  'Price': 19999,\n",
       "  'type': 'Electronics',\n",
       "  'prod_Brand': 'MI'},\n",
       " '1116': {'prod_name': 'Galaxy5G',\n",
       "  'In Stock': 5,\n",
       "  'Price': 49999,\n",
       "  'type': 'Electronics',\n",
       "  'prod_Brand': 'Samsung'},\n",
       " '1117': {'prod_name': 'Bluetooth Headphone',\n",
       "  'In Stock': 15,\n",
       "  'Price': 1499,\n",
       "  'type': 'Electronics',\n",
       "  'prod_Brand': 'Samsung'},\n",
       " '1118': {'prod_name': 'ROG E6 Laptop',\n",
       "  'In Stock': 50,\n",
       "  'Price': 129999,\n",
       "  'type': 'Electronics',\n",
       "  'prod_Brand': 'Asus'},\n",
       " '1119': {'prod_name': 'Oppo F6 cover case',\n",
       "  'In Stock': 10,\n",
       "  'Price': 699,\n",
       "  'type': 'Electronics',\n",
       "  'prod_Brand': 'OPPO'},\n",
       " '1120': {'prod_name': 'Vivo Signature Kit',\n",
       "  'In Stock': 50,\n",
       "  'Price': 1999,\n",
       "  'type': 'Apparel',\n",
       "  'prod_Brand': 'VIVO'},\n",
       " '1121': {'prod_name': 'S4 Plus',\n",
       "  'In Stock': 10,\n",
       "  'Price': 9999,\n",
       "  'type': 'Electronics',\n",
       "  'prod_Brand': 'Infinix'},\n",
       " '1122': {'prod_name': 'Ear Thunders',\n",
       "  'In Stock': 48,\n",
       "  'Price': 1199,\n",
       "  'type': 'Electronics',\n",
       "  'prod_Brand': 'Boult'},\n",
       " '1123': {'prod_name': 'Port C4 charger',\n",
       "  'In Stock': 50,\n",
       "  'Price': 299,\n",
       "  'type': 'Electronics',\n",
       "  'prod_Brand': 'Asus'},\n",
       " '1124': {'prod_name': 'Firestick',\n",
       "  'In Stock': 50,\n",
       "  'Price': 14999,\n",
       "  'type': 'Electronics',\n",
       "  'prod_Brand': 'MI'},\n",
       " '1125': {'prod_name': 'Gaming Keyboard S4',\n",
       "  'In Stock': 50,\n",
       "  'Price': 1899,\n",
       "  'type': 'Electronics',\n",
       "  'prod_Brand': 'Asus'},\n",
       " '1126': {'prod_name': 'Power bank 5000MAH',\n",
       "  'In Stock': 20,\n",
       "  'Price': 599,\n",
       "  'type': 'Electronics',\n",
       "  'prod_Brand': 'MI'},\n",
       " '1127': {'prod_name': 'Drone E1.1.4',\n",
       "  'In Stock': 4,\n",
       "  'Price': 5999,\n",
       "  'type': 'Electronics',\n",
       "  'prod_Brand': 'Sky Toucher'},\n",
       " '1128': {'prod_name': 'Home Theater',\n",
       "  'In Stock': 50,\n",
       "  'Price': 2999,\n",
       "  'type': 'Electronics',\n",
       "  'prod_Brand': 'MI'},\n",
       " '1129': {'prod_name': 'DSLR',\n",
       "  'In Stock': 50,\n",
       "  'Price': 21999,\n",
       "  'type': 'Electronics',\n",
       "  'prod_Brand': 'Nikon'},\n",
       " '1130': {'prod_name': 'PenDrive 32GB',\n",
       "  'In Stock': 50,\n",
       "  'Price': 999,\n",
       "  'type': 'Electronics',\n",
       "  'prod_Brand': 'Sandisk'},\n",
       " '1131': {'prod_name': 'Trimmer',\n",
       "  'In Stock': 50,\n",
       "  'Price': 799,\n",
       "  'type': 'Electronics',\n",
       "  'prod_Brand': 'Nova'},\n",
       " '1132': {'prod_name': 'Amplifier',\n",
       "  'In Stock': 50,\n",
       "  'Price': 16999,\n",
       "  'type': 'Electronics',\n",
       "  'prod_Brand': 'HiTech'},\n",
       " '1133': {'prod_name': 'Nvidia Sound Card',\n",
       "  'In Stock': 50,\n",
       "  'Price': 3299,\n",
       "  'type': 'Electronics',\n",
       "  'prod_Brand': 'GForce'},\n",
       " '1134': {'prod_name': 'Smart Lightning',\n",
       "  'In Stock': 50,\n",
       "  'Price': 199,\n",
       "  'type': 'Electronics',\n",
       "  'prod_Brand': 'Diwali Lightners'},\n",
       " '1135': {'prod_name': 'AC 5th gen',\n",
       "  'In Stock': 50,\n",
       "  'Price': 28999,\n",
       "  'type': 'Electronics',\n",
       "  'prod_Brand': 'Lloyd'},\n",
       " '1136': {'prod_name': 'Washing Machine',\n",
       "  'In Stock': 50,\n",
       "  'Price': 7999,\n",
       "  'type': 'Electronics',\n",
       "  'prod_Brand': 'Lg'},\n",
       " '1137': {'prod_name': 'Ipod',\n",
       "  'In Stock': 50,\n",
       "  'Price': 9999,\n",
       "  'type': 'Electronics',\n",
       "  'prod_Brand': 'Apple'},\n",
       " '1138': {'prod_name': 'Tablet',\n",
       "  'In Stock': 50,\n",
       "  'Price': 11999,\n",
       "  'type': 'Electronics',\n",
       "  'prod_Brand': 'Dell'},\n",
       " '1139': {'prod_name': 'Hair Dryer',\n",
       "  'In Stock': 50,\n",
       "  'Price': 799,\n",
       "  'type': 'Electronics',\n",
       "  'prod_Brand': 'Misfit'},\n",
       " '1140': {'prod_name': 'Iron',\n",
       "  'In Stock': 50,\n",
       "  'Price': 699,\n",
       "  'type': 'Electronics',\n",
       "  'prod_Brand': 'Bajaj'},\n",
       " '1141': {'prod_name': 'Harmonium',\n",
       "  'In Stock': 50,\n",
       "  'Price': 9999,\n",
       "  'type': 'Instrumental',\n",
       "  'prod_Brand': 'Casio'}}"
      ]
     },
     "execution_count": 26,
     "metadata": {},
     "output_type": "execute_result"
    }
   ],
   "source": [
    "record[product_id]['In Stock'] = record[product_id]['In Stock']- product_qn\n",
    "record"
   ]
  },
  {
   "cell_type": "markdown",
   "id": "1a3a0a9a",
   "metadata": {},
   "source": [
    "# Updating Inventory after products sold"
   ]
  },
  {
   "cell_type": "code",
   "execution_count": 27,
   "id": "f150ee22",
   "metadata": {},
   "outputs": [],
   "source": [
    "txt=json.dumps(record)\n",
    "\n",
    "fd=open('record.json','w')\n",
    "fd.write(txt)\n",
    "fd.close()"
   ]
  },
  {
   "cell_type": "markdown",
   "id": "d837e53d",
   "metadata": {},
   "source": [
    "# Reading Sales JSON file"
   ]
  },
  {
   "cell_type": "code",
   "execution_count": 28,
   "id": "3afda905",
   "metadata": {},
   "outputs": [
    {
     "data": {
      "text/plain": [
       "{'1': {'Product ID': '1111',\n",
       "  'Product Name': 'Bluetooth Headphone J11',\n",
       "  'Type': 'Electronics',\n",
       "  'Customer Name': 'Naman Gokharu',\n",
       "  'Customer Number': '7014******',\n",
       "  'Quantity Sold': 1,\n",
       "  'Total Purchase': 999}}"
      ]
     },
     "execution_count": 28,
     "metadata": {},
     "output_type": "execute_result"
    }
   ],
   "source": [
    "count=0\n",
    "try:\n",
    "    #if inventory file is not created before, then exception occurs\n",
    "    fd=open('Sales.json','r')\n",
    "    txt2=fd.read()\n",
    "    fd.close()\n",
    "except:\n",
    "    if(tot_Amount!=0):\n",
    "        #if product is sold then inventory is created for first time\n",
    "        fd=open('Sales.json','w')\n",
    "        fd.write(json.dumps({\"1\":{\"Product ID\" : product_id,\"Product Name\" : product_name,\"Type\" : product_type,\n",
    "                                  \"Customer Name\" : cust_name,\"Customer Number\" : cust_number,\n",
    "                                  \"Quantity Sold\" : product_qn,\"Total Purchase\" : tot_Amount}}))\n",
    "        fd.close()\n",
    "        count=1\n",
    "        #Reloading sales file in read mode\n",
    "        fd=open('Sales.json','r')\n",
    "        txt2=fd.read()\n",
    "        fd.close()\n",
    "sales=json.loads(txt2)\n",
    "sales"
   ]
  },
  {
   "cell_type": "markdown",
   "id": "69706b50",
   "metadata": {},
   "source": [
    "# Adding Sales to Inventory"
   ]
  },
  {
   "cell_type": "code",
   "execution_count": 29,
   "id": "68142aef",
   "metadata": {},
   "outputs": [],
   "source": [
    "if(tot_Amount!=0 and count!=1):\n",
    "    sales[str(len(sales)+1)]={\"Product ID\" : product_id,\"Product Name\" : product_name,\"Type\" : product_type,\n",
    "                              \"Customer Name\" : cust_name,\"Customer Number\" : cust_number,\n",
    "                              \"Quantity Sold\" : product_qn,\"Total Purchase\" : tot_Amount}\n",
    "    "
   ]
  },
  {
   "cell_type": "markdown",
   "id": "d729fc83",
   "metadata": {},
   "source": [
    "# Writing back sales file"
   ]
  },
  {
   "cell_type": "code",
   "execution_count": 30,
   "id": "f5f7fcd7",
   "metadata": {},
   "outputs": [],
   "source": [
    "txt2=json.dumps(sales)\n",
    "\n",
    "fd=open('Sales.json','w')\n",
    "fd.write(txt2)\n",
    "fd.close()"
   ]
  }
 ],
 "metadata": {
  "kernelspec": {
   "display_name": "Python 3",
   "language": "python",
   "name": "python3"
  },
  "language_info": {
   "codemirror_mode": {
    "name": "ipython",
    "version": 3
   },
   "file_extension": ".py",
   "mimetype": "text/x-python",
   "name": "python",
   "nbconvert_exporter": "python",
   "pygments_lexer": "ipython3",
   "version": "3.8.5"
  }
 },
 "nbformat": 4,
 "nbformat_minor": 5
}
