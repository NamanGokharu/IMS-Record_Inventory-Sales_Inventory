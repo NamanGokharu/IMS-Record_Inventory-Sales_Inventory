{
 "cells": [
  {
   "cell_type": "markdown",
   "id": "4afe0802",
   "metadata": {},
   "source": [
    "# Reading Record"
   ]
  },
  {
   "cell_type": "code",
   "execution_count": 1,
   "id": "56dcc29f",
   "metadata": {},
   "outputs": [],
   "source": [
    "fd=open('record.json','r')\n",
    "txt=fd.read()\n",
    "fd.close()"
   ]
  },
  {
   "cell_type": "markdown",
   "id": "d532f2c7",
   "metadata": {},
   "source": [
    "# Importing JSON"
   ]
  },
  {
   "cell_type": "code",
   "execution_count": 5,
   "id": "d4ccfc35",
   "metadata": {},
   "outputs": [
    {
     "data": {
      "text/plain": [
       "{'1111': {'prod_name': 'Bluetooth Headphone J11',\n",
       "  'In Stock': 50,\n",
       "  'Price': 999,\n",
       "  'type': 'Electronics',\n",
       "  'prod_Brand': 'MI'},\n",
       " '1112': {'prod_name': 'Bluetooth Earphone M10',\n",
       "  'In Stock': 100,\n",
       "  'Price': 1999,\n",
       "  'type': 'Electronics',\n",
       "  'prod_Brand': 'Samsung'},\n",
       " '1113': {'prod_name': 'Bluetooth Watch Smart5',\n",
       "  'In Stock': 100,\n",
       "  'Price': 4999,\n",
       "  'type': 'Electronics',\n",
       "  'prod_Brand': 'Samsung'},\n",
       " '1114': {'prod_name': 'Bluetooth Speaker S-series',\n",
       "  'In Stock': 20,\n",
       "  'Price': 2999,\n",
       "  'type': 'Electronics',\n",
       "  'prod_Brand': 'MI'},\n",
       " '1115': {'prod_name': 'Bluetooth TV',\n",
       "  'In Stock': 10,\n",
       "  'Price': 19999,\n",
       "  'type': 'Electronics',\n",
       "  'prod_Brand': 'MI'},\n",
       " '1116': {'prod_name': 'Galaxy5G',\n",
       "  'In Stock': 5,\n",
       "  'Price': 49999,\n",
       "  'type': 'Electronics',\n",
       "  'prod_Brand': 'Samsung'},\n",
       " '1117': {'prod_name': 'Bluetooth Headphone',\n",
       "  'In Stock': 15,\n",
       "  'Price': 1499,\n",
       "  'type': 'Electronics',\n",
       "  'prod_Brand': 'Samsung'},\n",
       " '1118': {'prod_name': 'ROG E6 Laptop',\n",
       "  'In Stock': 50,\n",
       "  'Price': 129999,\n",
       "  'type': 'Electronics',\n",
       "  'prod_Brand': 'Asus'},\n",
       " '1119': {'prod_name': 'Oppo F6 cover case',\n",
       "  'In Stock': 10,\n",
       "  'Price': 699,\n",
       "  'type': 'Electronics',\n",
       "  'prod_Brand': 'OPPO'},\n",
       " '1120': {'prod_name': 'Vivo Signature Kit',\n",
       "  'In Stock': 50,\n",
       "  'Price': 1999,\n",
       "  'type': 'Apparel',\n",
       "  'prod_Brand': 'VIVO'},\n",
       " '1121': {'prod_name': 'S4 Plus',\n",
       "  'In Stock': 10,\n",
       "  'Price': 9999,\n",
       "  'type': 'Electronics',\n",
       "  'prod_Brand': 'Infinix'},\n",
       " '1122': {'prod_name': 'Ear Thunders',\n",
       "  'In Stock': 50,\n",
       "  'Price': 1199,\n",
       "  'type': 'Electronics',\n",
       "  'prod_Brand': 'Boult'},\n",
       " '1123': {'prod_name': 'Port C4 charger',\n",
       "  'In Stock': 50,\n",
       "  'Price': 299,\n",
       "  'type': 'Electronics',\n",
       "  'prod_Brand': 'Asus'},\n",
       " '1124': {'prod_name': 'Firestick',\n",
       "  'In Stock': 50,\n",
       "  'Price': 14999,\n",
       "  'type': 'Electronics',\n",
       "  'prod_Brand': 'MI'},\n",
       " '1125': {'prod_name': 'Gaming Keyboard S4',\n",
       "  'In Stock': 50,\n",
       "  'Price': 1899,\n",
       "  'type': 'Electronics',\n",
       "  'prod_Brand': 'Asus'},\n",
       " '1126': {'prod_name': 'Power bank 5000MAH',\n",
       "  'In Stock': 20,\n",
       "  'Price': 599,\n",
       "  'type': 'Electronics',\n",
       "  'prod_Brand': 'MI'},\n",
       " '1127': {'prod_name': 'Drone E1.1.4',\n",
       "  'In Stock': 4,\n",
       "  'Price': 5999,\n",
       "  'type': 'Electronics',\n",
       "  'prod_Brand': 'Sky Toucher'},\n",
       " '1128': {'prod_name': 'Home Theater',\n",
       "  'In Stock': 50,\n",
       "  'Price': 2999,\n",
       "  'type': 'Electronics',\n",
       "  'prod_Brand': 'MI'},\n",
       " '1129': {'prod_name': 'DSLR',\n",
       "  'In Stock': 50,\n",
       "  'Price': 21999,\n",
       "  'type': 'Electronics',\n",
       "  'prod_Brand': 'Nikon'},\n",
       " '1130': {'prod_name': 'PenDrive 32GB',\n",
       "  'In Stock': 50,\n",
       "  'Price': 999,\n",
       "  'type': 'Electronics',\n",
       "  'prod_Brand': 'Sandisk'},\n",
       " '1131': {'prod_name': 'Trimmer',\n",
       "  'In Stock': 50,\n",
       "  'Price': 799,\n",
       "  'type': 'Electronics',\n",
       "  'prod_Brand': 'Nova'},\n",
       " '1132': {'prod_name': 'Amplifier',\n",
       "  'In Stock': 50,\n",
       "  'Price': 16999,\n",
       "  'type': 'Electronics',\n",
       "  'prod_Brand': 'HiTech'},\n",
       " '1133': {'prod_name': 'Nvidia Sound Card',\n",
       "  'In Stock': 50,\n",
       "  'Price': 3299,\n",
       "  'type': 'Electronics',\n",
       "  'prod_Brand': 'GForce'},\n",
       " '1134': {'prod_name': 'Smart Lightning',\n",
       "  'In Stock': 50,\n",
       "  'Price': 199,\n",
       "  'type': 'Electronics',\n",
       "  'prod_Brand': 'Diwali Lightners'},\n",
       " '1135': {'prod_name': 'AC 5th gen',\n",
       "  'In Stock': 50,\n",
       "  'Price': 28999,\n",
       "  'type': 'Electronics',\n",
       "  'prod_Brand': 'Lloyd'},\n",
       " '1136': {'prod_name': 'Washing Machine',\n",
       "  'In Stock': 50,\n",
       "  'Price': 7999,\n",
       "  'type': 'Electronics',\n",
       "  'prod_Brand': 'Lg'},\n",
       " '1137': {'prod_name': 'Ipod',\n",
       "  'In Stock': 50,\n",
       "  'Price': 9999,\n",
       "  'type': 'Electronics',\n",
       "  'prod_Brand': 'Apple'},\n",
       " '1138': {'prod_name': 'Tablet',\n",
       "  'In Stock': 50,\n",
       "  'Price': 11999,\n",
       "  'type': 'Electronics',\n",
       "  'prod_Brand': 'Dell'},\n",
       " '1139': {'prod_name': 'Hair Dryer',\n",
       "  'In Stock': 50,\n",
       "  'Price': 799,\n",
       "  'type': 'Electronics',\n",
       "  'prod_Brand': 'Misfit'},\n",
       " '1140': {'prod_name': 'Iron',\n",
       "  'In Stock': 50,\n",
       "  'Price': 699,\n",
       "  'type': 'Electronics',\n",
       "  'prod_Brand': 'Bajaj'}}"
      ]
     },
     "execution_count": 5,
     "metadata": {},
     "output_type": "execute_result"
    }
   ],
   "source": [
    "import json\n",
    "record = json.loads(txt)\n",
    "record"
   ]
  },
  {
   "cell_type": "markdown",
   "id": "35f37b4f",
   "metadata": {},
   "source": [
    "# New product Input from User"
   ]
  },
  {
   "cell_type": "code",
   "execution_count": 12,
   "id": "173be2bb",
   "metadata": {},
   "outputs": [
    {
     "name": "stdout",
     "output_type": "stream",
     "text": [
      "Enter product id: 1111\n",
      "Enter upcoming stock quantity : 50\n"
     ]
    }
   ],
   "source": [
    "product_id=input(\"Enter product id: \")\n",
    "product_name=\"\"\n",
    "new_stock=0\n",
    "price=0\n",
    "Type=\"\"\n",
    "Brand=\"\"\n",
    "product_Id_Valid=False\n",
    "product_stock_update=False\n",
    "if product_id not in record.keys():\n",
    "    product_Id_Valid=True\n",
    "    product_name=input(\"Enter product name: \")\n",
    "    new_stock=int(input(\"Enter upcoming stock quantity : \"))\n",
    "    price=int(input(\"Enter product price/unit : \"))\n",
    "    Type=input(\"Enter product type: \")\n",
    "    Brand=input(\"Enter brand name : \")\n",
    "else:\n",
    "    product_stock_update=True\n",
    "    new_stock=int(input(\"Enter upcoming stock quantity : \"))"
   ]
  },
  {
   "cell_type": "markdown",
   "id": "295c3ca0",
   "metadata": {},
   "source": [
    "# Adding/Updating product to record "
   ]
  },
  {
   "cell_type": "code",
   "execution_count": 13,
   "id": "06681101",
   "metadata": {},
   "outputs": [],
   "source": [
    "if(product_Id_Valid):\n",
    "    record[product_id]={'prod_name': product_name,'In Stock': new_stock,'Price': price,'type': Type,'prod_Brand': Brand}\n",
    "elif(product_stock_update):\n",
    "    record[product_id]['In Stock'] = record[product_id]['In Stock']+new_stock"
   ]
  },
  {
   "cell_type": "markdown",
   "id": "799ab6b7",
   "metadata": {},
   "source": [
    "# Checking the updated Records"
   ]
  },
  {
   "cell_type": "code",
   "execution_count": 14,
   "id": "2891aa26",
   "metadata": {},
   "outputs": [
    {
     "name": "stdout",
     "output_type": "stream",
     "text": [
      "{'1111': {'prod_name': 'Bluetooth Headphone J11', 'In Stock': 100, 'Price': 999, 'type': 'Electronics', 'prod_Brand': 'MI'}, '1112': {'prod_name': 'Bluetooth Earphone M10', 'In Stock': 100, 'Price': 1999, 'type': 'Electronics', 'prod_Brand': 'Samsung'}, '1113': {'prod_name': 'Bluetooth Watch Smart5', 'In Stock': 100, 'Price': 4999, 'type': 'Electronics', 'prod_Brand': 'Samsung'}, '1114': {'prod_name': 'Bluetooth Speaker S-series', 'In Stock': 20, 'Price': 2999, 'type': 'Electronics', 'prod_Brand': 'MI'}, '1115': {'prod_name': 'Bluetooth TV', 'In Stock': 10, 'Price': 19999, 'type': 'Electronics', 'prod_Brand': 'MI'}, '1116': {'prod_name': 'Galaxy5G', 'In Stock': 5, 'Price': 49999, 'type': 'Electronics', 'prod_Brand': 'Samsung'}, '1117': {'prod_name': 'Bluetooth Headphone', 'In Stock': 15, 'Price': 1499, 'type': 'Electronics', 'prod_Brand': 'Samsung'}, '1118': {'prod_name': 'ROG E6 Laptop', 'In Stock': 50, 'Price': 129999, 'type': 'Electronics', 'prod_Brand': 'Asus'}, '1119': {'prod_name': 'Oppo F6 cover case', 'In Stock': 10, 'Price': 699, 'type': 'Electronics', 'prod_Brand': 'OPPO'}, '1120': {'prod_name': 'Vivo Signature Kit', 'In Stock': 50, 'Price': 1999, 'type': 'Apparel', 'prod_Brand': 'VIVO'}, '1121': {'prod_name': 'S4 Plus', 'In Stock': 10, 'Price': 9999, 'type': 'Electronics', 'prod_Brand': 'Infinix'}, '1122': {'prod_name': 'Ear Thunders', 'In Stock': 50, 'Price': 1199, 'type': 'Electronics', 'prod_Brand': 'Boult'}, '1123': {'prod_name': 'Port C4 charger', 'In Stock': 50, 'Price': 299, 'type': 'Electronics', 'prod_Brand': 'Asus'}, '1124': {'prod_name': 'Firestick', 'In Stock': 50, 'Price': 14999, 'type': 'Electronics', 'prod_Brand': 'MI'}, '1125': {'prod_name': 'Gaming Keyboard S4', 'In Stock': 50, 'Price': 1899, 'type': 'Electronics', 'prod_Brand': 'Asus'}, '1126': {'prod_name': 'Power bank 5000MAH', 'In Stock': 20, 'Price': 599, 'type': 'Electronics', 'prod_Brand': 'MI'}, '1127': {'prod_name': 'Drone E1.1.4', 'In Stock': 4, 'Price': 5999, 'type': 'Electronics', 'prod_Brand': 'Sky Toucher'}, '1128': {'prod_name': 'Home Theater', 'In Stock': 50, 'Price': 2999, 'type': 'Electronics', 'prod_Brand': 'MI'}, '1129': {'prod_name': 'DSLR', 'In Stock': 50, 'Price': 21999, 'type': 'Electronics', 'prod_Brand': 'Nikon'}, '1130': {'prod_name': 'PenDrive 32GB', 'In Stock': 50, 'Price': 999, 'type': 'Electronics', 'prod_Brand': 'Sandisk'}, '1131': {'prod_name': 'Trimmer', 'In Stock': 50, 'Price': 799, 'type': 'Electronics', 'prod_Brand': 'Nova'}, '1132': {'prod_name': 'Amplifier', 'In Stock': 50, 'Price': 16999, 'type': 'Electronics', 'prod_Brand': 'HiTech'}, '1133': {'prod_name': 'Nvidia Sound Card', 'In Stock': 50, 'Price': 3299, 'type': 'Electronics', 'prod_Brand': 'GForce'}, '1134': {'prod_name': 'Smart Lightning', 'In Stock': 50, 'Price': 199, 'type': 'Electronics', 'prod_Brand': 'Diwali Lightners'}, '1135': {'prod_name': 'AC 5th gen', 'In Stock': 50, 'Price': 28999, 'type': 'Electronics', 'prod_Brand': 'Lloyd'}, '1136': {'prod_name': 'Washing Machine', 'In Stock': 50, 'Price': 7999, 'type': 'Electronics', 'prod_Brand': 'Lg'}, '1137': {'prod_name': 'Ipod', 'In Stock': 50, 'Price': 9999, 'type': 'Electronics', 'prod_Brand': 'Apple'}, '1138': {'prod_name': 'Tablet', 'In Stock': 50, 'Price': 11999, 'type': 'Electronics', 'prod_Brand': 'Dell'}, '1139': {'prod_name': 'Hair Dryer', 'In Stock': 50, 'Price': 799, 'type': 'Electronics', 'prod_Brand': 'Misfit'}, '1140': {'prod_name': 'Iron', 'In Stock': 50, 'Price': 699, 'type': 'Electronics', 'prod_Brand': 'Bajaj'}, '1141': {'prod_name': 'Harmonium', 'In Stock': 50, 'Price': 9999, 'type': 'Instrumental', 'prod_Brand': 'Casio'}}\n"
     ]
    }
   ],
   "source": [
    "print(record)"
   ]
  },
  {
   "cell_type": "markdown",
   "id": "4ada5f09",
   "metadata": {},
   "source": [
    "# Writing Record in JSON file"
   ]
  },
  {
   "cell_type": "code",
   "execution_count": 17,
   "id": "da2aa65e",
   "metadata": {},
   "outputs": [],
   "source": [
    "txt=json.dumps(record)\n",
    "fd=open('record.json','w')\n",
    "fd.write(txt)\n",
    "fd.close()"
   ]
  }
 ],
 "metadata": {
  "kernelspec": {
   "display_name": "Python 3",
   "language": "python",
   "name": "python3"
  },
  "language_info": {
   "codemirror_mode": {
    "name": "ipython",
    "version": 3
   },
   "file_extension": ".py",
   "mimetype": "text/x-python",
   "name": "python",
   "nbconvert_exporter": "python",
   "pygments_lexer": "ipython3",
   "version": "3.8.5"
  }
 },
 "nbformat": 4,
 "nbformat_minor": 5
}
